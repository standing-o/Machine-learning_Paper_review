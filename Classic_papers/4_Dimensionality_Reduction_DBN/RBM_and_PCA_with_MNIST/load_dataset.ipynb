{
 "cells": [
  {
   "cell_type": "code",
   "execution_count": 1,
   "metadata": {},
   "outputs": [],
   "source": [
    "import numpy as np\n",
    "import pandas as pd \n",
    "import matplotlib.pyplot as plt"
   ]
  },
  {
   "cell_type": "code",
   "execution_count": 2,
   "metadata": {},
   "outputs": [],
   "source": [
    "# mnist dataset (60000 train, 10000 test)\n",
    "# raw dataset\n",
    "raw_train = pd.read_csv(\"mnist_train.csv\")\n",
    "raw_test = pd.read_csv(\"mnist_test.csv\")\n",
    "\n",
    "# pca (196 features)\n",
    "pca_train = pd.read_csv('x_train_pca.csv')\n",
    "pca_test = pd.read_csv('x_test_pca.csv')\n",
    "\n",
    "# rbm (196 features)\n",
    "rbm_train = pd.read_csv('x_train_rbm.csv')\n",
    "rbm_test = pd.read_csv('x_test_rbm.csv')\n",
    "\n",
    "# label\n",
    "y_train = raw_train.label.values\n",
    "y_test = raw_test.label.values"
   ]
  }
 ],
 "metadata": {
  "kernelspec": {
   "display_name": "Python 3",
   "language": "python",
   "name": "python3"
  },
  "language_info": {
   "codemirror_mode": {
    "name": "ipython",
    "version": 3
   },
   "file_extension": ".py",
   "mimetype": "text/x-python",
   "name": "python",
   "nbconvert_exporter": "python",
   "pygments_lexer": "ipython3",
   "version": "3.8.5"
  }
 },
 "nbformat": 4,
 "nbformat_minor": 4
}
