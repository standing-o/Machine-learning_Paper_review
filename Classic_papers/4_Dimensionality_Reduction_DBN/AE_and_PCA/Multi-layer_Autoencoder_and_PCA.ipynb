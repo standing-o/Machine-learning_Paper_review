{
 "cells": [
  {
   "cell_type": "markdown",
   "metadata": {},
   "source": [
    "## 1. Stacked_Autoencoder"
   ]
  },
  {
   "cell_type": "code",
   "execution_count": 17,
   "metadata": {},
   "outputs": [],
   "source": [
    "import numpy as np\n",
    "import pandas as pd\n",
    "import matplotlib.pyplot as plt\n",
    "import pickle\n",
    "import os as os\n",
    "from sklearn.model_selection import train_test_split\n",
    "import keras\n",
    "from keras.models import Sequential\n",
    "from keras.layers import Dense, Dropout, Flatten, GlobalAveragePooling2D, BatchNormalization\n",
    "from tensorflow.keras.applications import EfficientNetB3\n",
    "from keras.layers.convolutional import Conv2D, MaxPooling2D\n",
    "from keras.models import load_model\n",
    "from keras.applications.vgg16 import preprocess_input\n",
    "from keras.optimizers import Adam\n",
    "import matplotlib"
   ]
  },
  {
   "cell_type": "code",
   "execution_count": 4,
   "metadata": {},
   "outputs": [],
   "source": [
    "train_orig = pd.read_csv('dataset/train.csv')\n",
    "test_orig = pd.read_csv('dataset/test.csv')"
   ]
  },
  {
   "cell_type": "code",
   "execution_count": 5,
   "metadata": {},
   "outputs": [],
   "source": [
    "train = train_orig.drop(['label'], axis = 1)\n",
    "label = train_orig.label\n",
    "target = pd.get_dummies(label, columns=['label'], drop_first=False)"
   ]
  },
  {
   "cell_type": "code",
   "execution_count": 6,
   "metadata": {},
   "outputs": [],
   "source": [
    "x_train,x_test,y_train,y_test = train_test_split(train,target,test_size = 0.2, random_state = 1004)"
   ]
  },
  {
   "cell_type": "code",
   "execution_count": 7,
   "metadata": {},
   "outputs": [],
   "source": [
    "x_train = np.array(x_train)\n",
    "x_test = np.array(x_test)\n",
    "x_train = x_train.reshape(48000,784,)\n",
    "x_test = x_test.reshape(12000,784,)\n",
    "\n",
    "x_train = x_train/255.0\n",
    "x_test = x_test/255.0"
   ]
  },
  {
   "cell_type": "code",
   "execution_count": 69,
   "metadata": {
    "scrolled": false
   },
   "outputs": [
    {
     "name": "stdout",
     "output_type": "stream",
     "text": [
      "Model: \"sequential_3\"\n",
      "_________________________________________________________________\n",
      "Layer (type)                 Output Shape              Param #   \n",
      "=================================================================\n",
      "dense_27 (Dense)             (None, 784)               615440    \n",
      "_________________________________________________________________\n",
      "dense_28 (Dense)             (None, 1000)              785000    \n",
      "_________________________________________________________________\n",
      "dense_29 (Dense)             (None, 500)               500500    \n",
      "_________________________________________________________________\n",
      "dense_30 (Dense)             (None, 250)               125250    \n",
      "_________________________________________________________________\n",
      "dense_31 (Dense)             (None, 30)                7530      \n",
      "_________________________________________________________________\n",
      "dense_32 (Dense)             (None, 250)               7750      \n",
      "_________________________________________________________________\n",
      "dense_33 (Dense)             (None, 500)               125500    \n",
      "_________________________________________________________________\n",
      "dense_34 (Dense)             (None, 1000)              501000    \n",
      "_________________________________________________________________\n",
      "dense_35 (Dense)             (None, 784)               784784    \n",
      "=================================================================\n",
      "Total params: 3,452,754\n",
      "Trainable params: 3,452,754\n",
      "Non-trainable params: 0\n",
      "_________________________________________________________________\n"
     ]
    }
   ],
   "source": [
    "batch_size = 128\n",
    "\n",
    "model = Sequential()\n",
    "\n",
    "model.add(Dense(784, activation='relu', input_shape =(784,)))\n",
    "model.add(Dense(1000, activation='relu'))\n",
    "model.add(Dense(500, activation='relu'))        \n",
    "model.add(Dense(250, activation='relu'))\n",
    "model.add(Dense(30, activation='relu'))\n",
    "model.add(Dense(250, activation='relu'))\n",
    "model.add(Dense(500, activation='relu'))\n",
    "model.add(Dense(1000, activation='relu'))\n",
    "model.add(Dense(784, activation='sigmoid'))\n",
    "\n",
    "model.summary()"
   ]
  },
  {
   "cell_type": "code",
   "execution_count": 70,
   "metadata": {
    "scrolled": true
   },
   "outputs": [
    {
     "name": "stdout",
     "output_type": "stream",
     "text": [
      "Epoch 1/10\n",
      "375/375 [==============================] - 15s 41ms/step - loss: 0.0693 - mse: 0.0693\n",
      "Epoch 2/10\n",
      "375/375 [==============================] - 13s 35ms/step - loss: 0.0300 - mse: 0.0300\n",
      "Epoch 3/10\n",
      "375/375 [==============================] - 13s 36ms/step - loss: 0.0219 - mse: 0.0219\n",
      "Epoch 4/10\n",
      "375/375 [==============================] - 12s 33ms/step - loss: 0.0184 - mse: 0.0184\n",
      "Epoch 5/10\n",
      "375/375 [==============================] - 12s 33ms/step - loss: 0.0162 - mse: 0.0162\n",
      "Epoch 6/10\n",
      "375/375 [==============================] - 12s 33ms/step - loss: 0.0146 - mse: 0.0146\n",
      "Epoch 7/10\n",
      "375/375 [==============================] - 13s 34ms/step - loss: 0.0134 - mse: 0.0134\n",
      "Epoch 8/10\n",
      "375/375 [==============================] - 14s 37ms/step - loss: 0.0124 - mse: 0.0124\n",
      "Epoch 9/10\n",
      "375/375 [==============================] - 13s 36ms/step - loss: 0.0116 - mse: 0.0116\n",
      "Epoch 10/10\n",
      "375/375 [==============================] - 13s 35ms/step - loss: 0.0111 - mse: 0.0111\n"
     ]
    }
   ],
   "source": [
    "model.compile(optimizer=Adam(lr=0.0001), loss = 'mse', metrics=['mse'])\n",
    "hist10 = model.fit(x_train, x_train, epochs=10, batch_size = batch_size, verbose = 1)"
   ]
  },
  {
   "cell_type": "code",
   "execution_count": 78,
   "metadata": {},
   "outputs": [],
   "source": [
    "def plot_loss(history, title):\n",
    "    plt.figure(figsize=(10,6))\n",
    "    plt.plot(history.history['loss'], label='Train')\n",
    "    plt.title(title)\n",
    "    plt.xlabel('Nb Epochs')\n",
    "    plt.ylabel('Loss')\n",
    "    plt.legend()\n",
    "    plt.show()"
   ]
  },
  {
   "cell_type": "code",
   "execution_count": 79,
   "metadata": {},
   "outputs": [
    {
     "data": {
      "image/png": "[encoded data removed]",
      "text/plain": [
       "<Figure size 720x432 with 1 Axes>"
      ]
     },
     "metadata": {
      "needs_background": "light"
     },
     "output_type": "display_data"
    }
   ],
   "source": [
    "plot_loss(hist10, 'Train Loss')"
   ]
  },
  {
   "cell_type": "code",
   "execution_count": 71,
   "metadata": {},
   "outputs": [],
   "source": [
    "# save model architecture\n",
    "model_json = model.to_json()\n",
    "open('AE.json', 'w').write(model_json)\n",
    "\n",
    "# save model's learned weights\n",
    "model.save_weights('AE_weights.h5', overwrite=True)"
   ]
  },
  {
   "cell_type": "code",
   "execution_count": 72,
   "metadata": {},
   "outputs": [
    {
     "name": "stdout",
     "output_type": "stream",
     "text": [
      "Loaded model from disk\n"
     ]
    }
   ],
   "source": [
    "from keras.models import model_from_json \n",
    "\n",
    "json_file = open(\"AE.json\", \"r\")\n",
    "loaded_model_json = json_file.read() \n",
    "json_file.close()\n",
    "loaded_model = model_from_json(loaded_model_json)\n",
    " \n",
    "# model weight load \n",
    "loaded_model.load_weights(\"AE_weights.h5\")\n",
    "print(\"Loaded model from disk\")"
   ]
  },
  {
   "cell_type": "code",
   "execution_count": 73,
   "metadata": {
    "scrolled": true
   },
   "outputs": [
    {
     "data": {
      "image/png": "[encoded data removed]",
      "text/plain": [
       "<Figure size 1152x576 with 16 Axes>"
      ]
     },
     "metadata": {},
     "output_type": "display_data"
    }
   ],
   "source": [
    "fig = plt.figure(figsize = (16,8))\n",
    "\n",
    "for i in range(8):\n",
    "    x = x_train[i].reshape(1,784)\n",
    "    y = loaded_model.predict(x)\n",
    "    xx = x.reshape(28,28)\n",
    "    yy = y.reshape(28,28)\n",
    "\n",
    "    ax = fig.add_subplot(2, 8, i+1)\n",
    "    plt.imshow(xx, cmap='gray')\n",
    "    plt.xlabel(\"data\", fontsize = 12)\n",
    "    plt.xticks([]) \n",
    "    plt.yticks([])\n",
    "    \n",
    "    ax = fig.add_subplot(1, 8, i+1)\n",
    "    plt.imshow(yy, cmap='gray')\n",
    "    plt.xlabel(\"pred\", fontsize = 12)\n",
    "    plt.xticks([]) \n",
    "    plt.yticks([])\n",
    "plt.show()"
   ]
  },
  {
   "cell_type": "markdown",
   "metadata": {},
   "source": [
    "## 2. Principle Component Analysis"
   ]
  },
  {
   "cell_type": "code",
   "execution_count": 8,
   "metadata": {},
   "outputs": [],
   "source": [
    "from sklearn.decomposition import PCA"
   ]
  },
  {
   "cell_type": "code",
   "execution_count": 9,
   "metadata": {},
   "outputs": [
    {
     "name": "stdout",
     "output_type": "stream",
     "text": [
      "Dimension : 154\n"
     ]
    }
   ],
   "source": [
    "pca = PCA(n_components=0.95)\n",
    "X_reduced = pca.fit_transform(x_train) \n",
    "\n",
    "print('Dimension :', pca.n_components_)"
   ]
  },
  {
   "cell_type": "code",
   "execution_count": 10,
   "metadata": {},
   "outputs": [],
   "source": [
    "X_recovered = pca.inverse_transform(X_reduced)"
   ]
  },
  {
   "cell_type": "code",
   "execution_count": 21,
   "metadata": {},
   "outputs": [
    {
     "data": {
      "image/png": "[encoded data removed]",
      "text/plain": [
       "<Figure size 1152x576 with 16 Axes>"
      ]
     },
     "metadata": {},
     "output_type": "display_data"
    }
   ],
   "source": [
    "fig = plt.figure(figsize = (16,8))\n",
    "\n",
    "for i in range(8):\n",
    "    x = x_train[i].reshape(1,784)\n",
    "    y = X_recovered[i]\n",
    "    xx = x.reshape(28,28)\n",
    "    yy = y.reshape(28,28)\n",
    "\n",
    "    ax = fig.add_subplot(2, 8, i+1)\n",
    "    plt.imshow(xx, cmap='gray')\n",
    "    plt.xlabel(\"data\", fontsize = 12)\n",
    "    plt.xticks([]) \n",
    "    plt.yticks([])\n",
    "    \n",
    "    ax = fig.add_subplot(1, 8, i+1)\n",
    "    plt.imshow(yy, cmap='gray')\n",
    "    plt.xlabel(\"pred\", fontsize = 12)\n",
    "    plt.xticks([]) \n",
    "    plt.yticks([])\n",
    "plt.show()"
   ]
  }
 ],
 "metadata": {
  "kernelspec": {
   "display_name": "Python 3",
   "language": "python",
   "name": "python3"
  },
  "language_info": {
   "codemirror_mode": {
    "name": "ipython",
    "version": 3
   },
   "file_extension": ".py",
   "mimetype": "text/x-python",
   "name": "python",
   "nbconvert_exporter": "python",
   "pygments_lexer": "ipython3",
   "version": "3.8.5"
  }
 },
 "nbformat": 4,
 "nbformat_minor": 4
}
