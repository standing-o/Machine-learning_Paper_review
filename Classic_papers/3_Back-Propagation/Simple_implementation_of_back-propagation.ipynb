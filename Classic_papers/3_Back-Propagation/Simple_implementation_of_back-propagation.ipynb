{
 "cells": [
  {
   "cell_type": "markdown",
   "metadata": {},
   "source": [
    "## Simple Implementation of Back-propagation"
   ]
  },
  {
   "cell_type": "code",
   "execution_count": 1,
   "metadata": {},
   "outputs": [],
   "source": [
    "import numpy as np\n",
    "import matplotlib.pyplot as plt\n",
    "from IPython.display import display, Math, Latex"
   ]
  },
  {
   "cell_type": "code",
   "execution_count": 2,
   "metadata": {},
   "outputs": [],
   "source": [
    "def sigmoid(xj):\n",
    "\n",
    "    s = 1/(1+np.exp(-xj))\n",
    "    \n",
    "    return s"
   ]
  },
  {
   "cell_type": "code",
   "execution_count": 3,
   "metadata": {},
   "outputs": [
    {
     "data": {
      "text/latex": [
       "$\\displaystyle x_j = \\sum_{i=0}y_iw_{ij}$"
      ],
      "text/plain": [
       "<IPython.core.display.Math object>"
      ]
     },
     "metadata": {},
     "output_type": "display_data"
    },
    {
     "data": {
      "text/latex": [
       "$\\displaystyle y_j = \\frac{1}{1+e^{-x_j}}$"
      ],
      "text/plain": [
       "<IPython.core.display.Math object>"
      ]
     },
     "metadata": {},
     "output_type": "display_data"
    },
    {
     "data": {
      "text/latex": [
       "$\\displaystyle E = \\frac{1}{2}\\sum_{j}(y_j-d_j)^2$"
      ],
      "text/plain": [
       "<IPython.core.display.Math object>"
      ]
     },
     "metadata": {},
     "output_type": "display_data"
    },
    {
     "data": {
      "text/latex": [
       "$\\displaystyle \\frac{\\partial E}{\\partial y_j} = y_j - d_j$"
      ],
      "text/plain": [
       "<IPython.core.display.Math object>"
      ]
     },
     "metadata": {},
     "output_type": "display_data"
    },
    {
     "data": {
      "text/latex": [
       "$\\displaystyle \\frac{\\partial y_j}{\\partial x_j} = y_j*(1-y_j)$"
      ],
      "text/plain": [
       "<IPython.core.display.Math object>"
      ]
     },
     "metadata": {},
     "output_type": "display_data"
    },
    {
     "data": {
      "text/latex": [
       "$\\displaystyle \\frac{\\partial x_j}{\\partial w_{ij}} = y_i$"
      ],
      "text/plain": [
       "<IPython.core.display.Math object>"
      ]
     },
     "metadata": {},
     "output_type": "display_data"
    }
   ],
   "source": [
    "display(Math(r'x_j = \\sum_{i=0}y_iw_{ij}'))\n",
    "display(Math(r'y_j = \\frac{1}{1+e^{-x_j}}'))\n",
    "display(Math(r'E = \\frac{1}{2}\\sum_{j}(y_j-d_j)^2'))\n",
    "display(Math(r'\\frac{\\partial E}{\\partial y_j} = y_j - d_j'))\n",
    "display(Math(r'\\frac{\\partial y_j}{\\partial x_j} = y_j*(1-y_j)'))\n",
    "display(Math(r'\\frac{\\partial x_j}{\\partial w_{ij}} = y_i'))"
   ]
  },
  {
   "cell_type": "code",
   "execution_count": 27,
   "metadata": {},
   "outputs": [],
   "source": [
    "def propagate(w, yi, dj):\n",
    "\n",
    "    m = yi.shape[1]\n",
    "\n",
    "    yj = sigmoid(np.dot(w.T, yi))       # compute activation\n",
    "    cost = 1/m*(np.sum(yj-dj))         # compute cost\n",
    " \n",
    "    dw = 1/m*np.dot(yi, ((yj-dj)*yj*(1-yj)).T)\n",
    " \n",
    "    cost = np.squeeze(cost)\n",
    " \n",
    "    \n",
    "    return yj, dw, cost"
   ]
  },
  {
   "cell_type": "code",
   "execution_count": 45,
   "metadata": {},
   "outputs": [],
   "source": [
    "def optimize(w, yi, dj, num_iterations, learning_rate):\n",
    "\n",
    "    costs = []\n",
    "    \n",
    "    for i in range(num_iterations):\n",
    "        \n",
    "        yj, dw, cost = propagate(w, yi, dj)\n",
    "\n",
    "        w = w - learning_rate*dw\n",
    "\n",
    "        if i % 1000 == 0:\n",
    "            costs.append(cost)\n",
    "\n",
    "        if i % 1000 == 0:\n",
    "            print (\"Cost after iteration %i: %f\" %(i, cost))\n",
    "    \n",
    "    return w, dw, yj, costs"
   ]
  },
  {
   "cell_type": "code",
   "execution_count": 49,
   "metadata": {},
   "outputs": [
    {
     "name": "stdout",
     "output_type": "stream",
     "text": [
      "(2, 1)\n",
      "(3, 1)\n"
     ]
    }
   ],
   "source": [
    "w = np.zeros((2,3))\n",
    "yi, dj = np.array([[1],[2]]), np.array([[1,0,1]]).T\n",
    "print(yi.shape)\n",
    "print(dj.shape)"
   ]
  },
  {
   "cell_type": "code",
   "execution_count": 51,
   "metadata": {},
   "outputs": [
    {
     "name": "stdout",
     "output_type": "stream",
     "text": [
      "Cost after iteration 0: -0.007175\n",
      "Cost after iteration 1000: -0.006999\n",
      "Cost after iteration 2000: -0.006836\n",
      "Cost after iteration 3000: -0.006684\n",
      "Cost after iteration 4000: -0.006541\n",
      "Cost after iteration 5000: -0.006407\n",
      "Cost after iteration 6000: -0.006281\n",
      "Cost after iteration 7000: -0.006162\n",
      "Cost after iteration 8000: -0.006050\n",
      "Cost after iteration 9000: -0.005943\n",
      "w = [[ 1.02735774 -1.02735774  1.02735774]\n",
      " [ 2.05471549 -2.05471549  2.05471549]]\n",
      "\n",
      "dw = [[-3.39330263e-05  3.39330263e-05 -3.39330263e-05]\n",
      " [-6.78660526e-05  6.78660526e-05 -6.78660526e-05]]\n",
      "\n",
      "prediction = [[0.9941577]\n",
      " [0.0058423]\n",
      " [0.9941577]]\n"
     ]
    }
   ],
   "source": [
    "w, dw, yj, costs = optimize(w, yi, dj, num_iterations= 10000, learning_rate = 0.1)\n",
    "\n",
    "print (\"w = \" + str(w) + '\\n')\n",
    "print (\"dw = \" + str(dw) + '\\n')\n",
    "print(\"prediction = \" + str(yj))"
   ]
  }
 ],
 "metadata": {
  "kernelspec": {
   "display_name": "Python 3",
   "language": "python",
   "name": "python3"
  },
  "language_info": {
   "codemirror_mode": {
    "name": "ipython",
    "version": 3
   },
   "file_extension": ".py",
   "mimetype": "text/x-python",
   "name": "python",
   "nbconvert_exporter": "python",
   "pygments_lexer": "ipython3",
   "version": "3.7.6"
  }
 },
 "nbformat": 4,
 "nbformat_minor": 4
}
